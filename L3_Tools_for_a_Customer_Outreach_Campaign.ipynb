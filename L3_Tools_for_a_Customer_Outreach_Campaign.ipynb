{
  "cells": [
    {
      "cell_type": "markdown",
      "metadata": {
        "id": "FbWoGOis4KoG"
      },
      "source": [
        "# L4: Tools for a Customer Outreach Campaign\n",
        "\n",
        "In this lesson, you will learn more about Tools. You'll focus on three key elements of Tools:\n",
        "- Versatility\n",
        "- Fault Tolerance\n",
        "- Caching"
      ]
    },
    {
      "cell_type": "markdown",
      "source": [
        "Crew AI Documentation"
      ],
      "metadata": {
        "id": "x1Kcq7qEIIUC"
      }
    },
    {
      "cell_type": "code",
      "execution_count": null,
      "metadata": {
        "id": "QLzfemDu1nf1"
      },
      "outputs": [],
      "source": [
        "!pip install -q crewai==0.28.8 crewai_tools==0.1.6 langchain_community==0.0.29 langchain langchain-cohere\n"
      ]
    },
    {
      "cell_type": "code",
      "execution_count": null,
      "metadata": {
        "id": "_LQ5_lop4KJq"
      },
      "outputs": [],
      "source": [
        "# # Warning control\n",
        "# import warnings\n",
        "# warnings.filterwarnings('ignore')"
      ]
    },
    {
      "cell_type": "markdown",
      "metadata": {
        "id": "crupbTS01TGn"
      },
      "source": [
        "- Import libraries, APIs and LLM\n",
        "- [Serper](https://serper.dev)"
      ]
    },
    {
      "cell_type": "code",
      "execution_count": null,
      "metadata": {
        "colab": {
          "base_uri": "https://localhost:8080/"
        },
        "id": "DtNRdDeG1TGo",
        "outputId": "8ab52b43-c694-4dc9-b280-cddf7aeaaffc"
      },
      "outputs": [
        {
          "name": "stderr",
          "output_type": "stream",
          "text": [
            "/usr/local/lib/python3.10/dist-packages/pydantic/_internal/_generate_schema.py:777: UserWarning: Mixing V1 models and V2 models (or constructs, like `TypeAdapter`) is not supported. Please upgrade `CrewAgentExecutor` to V2.\n",
            "  warn(\n"
          ]
        }
      ],
      "source": [
        "from crewai import Agent, Task, Crew"
      ]
    },
    {
      "cell_type": "code",
      "execution_count": null,
      "metadata": {
        "id": "BCHJFEkN13e1"
      },
      "outputs": [],
      "source": [
        "from langchain_community.chat_models import ChatCohere\n",
        "import os\n",
        "\n",
        "os.environ[\"COHERE_API_KEY\"] = \"hUQNZ8BBOMfdSMOtD3Go9QvIsvhLfxI2V9GvOcu0\"\n",
        "llm = ChatCohere(cohere_api_key=os.getenv(\"COHERE_API_KEY\"))\n"
      ]
    },
    {
      "cell_type": "markdown",
      "metadata": {
        "id": "ncUTLCuU1TGo"
      },
      "source": [
        "**Note**:\n",
        "- The video uses `gpt-4-turbo`, but due to certain constraints, and in order to offer this course for free to everyone, the code you'll run here will use `gpt-3.5-turbo`.\n",
        "- You can use `gpt-4-turbo` when you run the notebook _locally_ (using `gpt-4-turbo` will not work on the platform)\n",
        "- Thank you for your understanding!"
      ]
    },
    {
      "cell_type": "code",
      "execution_count": null,
      "metadata": {
        "id": "IUwyLxfo1TGp"
      },
      "outputs": [],
      "source": [
        "import os\n",
        "# from utils import get_openai_api_key, pretty_print_result\n",
        "# from utils import get_serper_api_key\n",
        "\n",
        "# openai_api_key = get_openai_api_key()\n",
        "# os.environ[\"OPENAI_MODEL_NAME\"] = 'gpt-3.5-turbo'\n",
        "os.environ[\"SERPER_API_KEY\"] = \"24745cf9da56dbfef7ccb53c329c1edbf01269fcf078419e11dacd86424170f3\""
      ]
    },
    {
      "cell_type": "markdown",
      "metadata": {
        "id": "g-0VrxCl1TGp"
      },
      "source": [
        "## Creating Agents"
      ]
    },
    {
      "cell_type": "code",
      "execution_count": null,
      "metadata": {
        "id": "BnXt5p0u1TGq"
      },
      "outputs": [],
      "source": [
        "sales_rep_agent = Agent(\n",
        "    role=\"Sales Representative\",\n",
        "    goal=\"Identify high-value leads that match \"\n",
        "         \"our ideal customer profile\",\n",
        "    backstory=(\n",
        "        \"As a part of the dynamic sales team at CrewAI, \"\n",
        "        \"your mission is to scour \"\n",
        "        \"the digital landscape for potential leads. \"\n",
        "        \"Armed with cutting-edge tools \"\n",
        "        \"and a strategic mindset, you analyze data, \"\n",
        "        \"trends, and interactions to \"\n",
        "        \"unearth opportunities that others might overlook. \"\n",
        "        \"Your work is crucial in paving the way \"\n",
        "        \"for meaningful engagements and driving the company's growth.\"\n",
        "    ),\n",
        "    allow_delegation=False,\n",
        "    verbose=True,\n",
        "    llm=llm\n",
        ")"
      ]
    },
    {
      "cell_type": "code",
      "execution_count": null,
      "metadata": {
        "id": "GcfGNHmF1TGr"
      },
      "outputs": [],
      "source": [
        "lead_sales_rep_agent = Agent(\n",
        "    role=\"Lead Sales Representative\",\n",
        "    goal=\"Nurture leads with personalized, compelling communications\",\n",
        "    backstory=(\n",
        "        \"Within the vibrant ecosystem of CrewAI's sales department, \"\n",
        "        \"you stand out as the bridge between potential clients \"\n",
        "        \"and the solutions they need.\"\n",
        "        \"By creating engaging, personalized messages, \"\n",
        "        \"you not only inform leads about our offerings \"\n",
        "        \"but also make them feel seen and heard.\"\n",
        "        \"Your role is pivotal in converting interest \"\n",
        "        \"into action, guiding leads through the journey \"\n",
        "        \"from curiosity to commitment.\"\n",
        "    ),\n",
        "    allow_delegation=False,\n",
        "    verbose=True,\n",
        "    llm=llm\n",
        ")"
      ]
    },
    {
      "cell_type": "markdown",
      "metadata": {
        "id": "lHGIHRFg1TGs"
      },
      "source": [
        "## Creating Tools\n",
        "\n",
        "### crewAI Tools"
      ]
    },
    {
      "cell_type": "code",
      "execution_count": null,
      "metadata": {
        "id": "CTy-4zsh1TGs"
      },
      "outputs": [],
      "source": [
        "from crewai_tools import DirectoryReadTool, \\\n",
        "                         FileReadTool, \\\n",
        "                         SerperDevTool"
      ]
    },
    {
      "cell_type": "markdown",
      "source": [
        "Simply put, DirectoryReadTool operates on a broader scale and focuses on a collection of files, whereas FileReadTool works specifically on a single file.\n",
        "\n",
        "\n",
        "\n",
        "\n",
        "\n",
        "\n"
      ],
      "metadata": {
        "id": "7UP8XUW3-iho"
      }
    },
    {
      "cell_type": "code",
      "execution_count": null,
      "metadata": {
        "id": "KLIbBbGE1TGt"
      },
      "outputs": [],
      "source": [
        "directory_read_tool = DirectoryReadTool(directory='./instructions')\n",
        "file_read_tool = FileReadTool()\n",
        "search_tool = SerperDevTool()"
      ]
    },
    {
      "cell_type": "markdown",
      "metadata": {
        "id": "ilbUJoVF1TGu"
      },
      "source": [
        "### Custom Tool\n",
        "- Create a custom tool using crewAi's [BaseTool](https://docs.crewai.com/core-concepts/Tools/#subclassing-basetool) class"
      ]
    },
    {
      "cell_type": "code",
      "execution_count": null,
      "metadata": {
        "id": "Chbqto431TGu"
      },
      "outputs": [],
      "source": [
        "# زمانی استفاده می‌شود که شما بخواهید یک ابزار سفارشی ایجاد کنید\n",
        "from crewai_tools import BaseTool"
      ]
    },
    {
      "cell_type": "markdown",
      "metadata": {
        "id": "ibpFxGbz1TGv"
      },
      "source": [
        "- Every Tool needs to have a `name` and a `description`.\n",
        "- For simplicity and classroom purposes, `SentimentAnalysisTool` will return `positive` for every text.\n",
        "- When running locally, you can customize the code with your logic in the `_run` function."
      ]
    },
    {
      "cell_type": "markdown",
      "source": [
        "این ابزار به عنوان یک چک‌کننده لحن عمل می‌کند تا اطمینان حاصل شود که ایمیل‌ها و پیام‌های ایجنت دوم موثر، مثبت و سازگار با اهداف تجاری هستند.\n",
        "\n",
        "\n",
        "\n",
        "\n",
        "\n",
        "\n"
      ],
      "metadata": {
        "id": "SEfifDf-_lzn"
      }
    },
    {
      "cell_type": "code",
      "execution_count": null,
      "metadata": {
        "id": "Tdm3_mLQ1TGv"
      },
      "outputs": [],
      "source": [
        "from crewai_tools import BaseTool\n",
        "\n",
        "class SentimentAnalysisTool(BaseTool):\n",
        "    name: str =\"Sentiment Analysis Tool\"\n",
        "    description: str = (\"Analyzes the sentiment of text \"\n",
        "         \"to ensure positive and engaging communication.\")\n",
        "\n",
        "    def _run(self, text: str) -> str:\n",
        "        # Your custom code tool goes here\n",
        "        return \"positive\"\n",
        "sentiment_analysis_tool = SentimentAnalysisTool()"
      ]
    },
    {
      "cell_type": "code",
      "execution_count": null,
      "metadata": {
        "id": "2g2JQkR81TGv"
      },
      "outputs": [],
      "source": [
        "sentiment_analysis_tool = SentimentAnalysisTool()"
      ]
    },
    {
      "cell_type": "markdown",
      "metadata": {
        "id": "zg_tjzYn1TGw"
      },
      "source": [
        "## Creating Tasks\n",
        "\n",
        "- The Lead Profiling Task is using crewAI Tools."
      ]
    },
    {
      "cell_type": "code",
      "execution_count": null,
      "metadata": {
        "id": "5moN1zjK1TGw"
      },
      "outputs": [],
      "source": [
        "lead_profiling_task = Task(\n",
        "    description=(\n",
        "        \"Conduct an in-depth analysis of {lead_name}, \"\n",
        "        \"a company in the {industry} sector \"\n",
        "        \"that recently showed interest in our solutions. \"\n",
        "        \"Utilize all available data sources \"\n",
        "        \"to compile a detailed profile, \"\n",
        "        \"focusing on key decision-makers, recent business \"\n",
        "        \"developments, and potential needs \"\n",
        "        \"that align with our offerings. \"\n",
        "        \"This task is crucial for tailoring \"\n",
        "        \"our engagement strategy effectively.\\n\"\n",
        "        \"Don't make assumptions and \"\n",
        "        \"only use information you absolutely sure about.\"\n",
        "    ),\n",
        "    expected_output=(\n",
        "        \"A comprehensive report on {lead_name}, \"\n",
        "        \"including company background, \"\n",
        "        \"key personnel, recent milestones, and identified needs. \"\n",
        "        \"Highlight potential areas where \"\n",
        "        \"our solutions can provide value, \"\n",
        "        \"and suggest personalized engagement strategies.\"\n",
        "    ),\n",
        "    tools=[directory_read_tool, file_read_tool, search_tool],\n",
        "    agent=sales_rep_agent,\n",
        ")"
      ]
    },
    {
      "cell_type": "markdown",
      "metadata": {
        "id": "H_BD_cvO1TGx"
      },
      "source": [
        "- The Personalized Outreach Task is using your custom Tool `SentimentAnalysisTool`, as well as crewAI's `SerperDevTool` (search_tool)."
      ]
    },
    {
      "cell_type": "code",
      "execution_count": null,
      "metadata": {
        "id": "txnI9siM1TGx"
      },
      "outputs": [],
      "source": [
        "personalized_outreach_task = Task(\n",
        "    description=(\n",
        "        \"Using the insights gathered from \"\n",
        "        \"the lead profiling report on {lead_name}, \"\n",
        "        \"craft a personalized outreach campaign \"\n",
        "        \"aimed at {key_decision_maker}, \"\n",
        "        \"the {position} of {lead_name}. \"\n",
        "        \"The campaign should address their recent {milestone} \"\n",
        "        \"and how our solutions can support their goals. \"\n",
        "        \"Your communication must resonate \"\n",
        "        \"with {lead_name}'s company culture and values, \"\n",
        "        \"demonstrating a deep understanding of \"\n",
        "        \"their business and needs.\\n\"\n",
        "        \"Don't make assumptions and only \"\n",
        "        \"use information you absolutely sure about.\"\n",
        "    ),\n",
        "    expected_output=(\n",
        "        \"A series of personalized email drafts \"\n",
        "        \"tailored to {lead_name}, \"\n",
        "        \"specifically targeting {key_decision_maker}.\"\n",
        "        \"Each draft should include \"\n",
        "        \"a compelling narrative that connects our solutions \"\n",
        "        \"with their recent achievements and future goals. \"\n",
        "        \"Ensure the tone is engaging, professional, \"\n",
        "        \"and aligned with {lead_name}'s corporate identity.\"\n",
        "    ),\n",
        "    tools=[sentiment_analysis_tool, search_tool],\n",
        "    agent=lead_sales_rep_agent,\n",
        ")"
      ]
    },
    {
      "cell_type": "markdown",
      "metadata": {
        "id": "lfRY0uOW1TGx"
      },
      "source": [
        "## Creating the Crew"
      ]
    },
    {
      "cell_type": "code",
      "execution_count": null,
      "metadata": {
        "colab": {
          "base_uri": "https://localhost:8080/"
        },
        "id": "FR7FHgvD1TGx",
        "outputId": "a6965ff1-c122-43db-cf6d-edd981f92fb1"
      },
      "outputs": [
        {
          "name": "stderr",
          "output_type": "stream",
          "text": [
            "WARNING:opentelemetry.trace:Overriding of current TracerProvider is not allowed\n"
          ]
        }
      ],
      "source": [
        "crew = Crew(\n",
        "    agents=[sales_rep_agent,\n",
        "            lead_sales_rep_agent],\n",
        "\n",
        "    tasks=[lead_profiling_task,\n",
        "           personalized_outreach_task],\n",
        "\n",
        "    verbose=2\n",
        "\t  # memory=True\n",
        ")"
      ]
    },
    {
      "cell_type": "markdown",
      "metadata": {
        "id": "EA2kFhDO1TGy"
      },
      "source": [
        "## Running the Crew\n",
        "\n",
        "**Note**: LLMs can provide different outputs for they same input, so what you get might be different than what you see in the video."
      ]
    },
    {
      "cell_type": "code",
      "execution_count": null,
      "metadata": {
        "colab": {
          "background_save": true,
          "base_uri": "https://localhost:8080/"
        },
        "id": "hbrmozkU1TGy",
        "outputId": "9538aa9c-d2d1-4445-dbbe-26f636ed8b1e"
      },
      "outputs": [
        {
          "name": "stdout",
          "output_type": "stream",
          "text": [
            "\u001b[1m\u001b[95m [DEBUG]: == Working Agent: Sales Representative\u001b[00m\n",
            "\u001b[1m\u001b[95m [INFO]: == Starting Task: Conduct an in-depth analysis of DeepLearningAI, a company in the Online Learning Platform sector that recently showed interest in our solutions. Utilize all available data sources to compile a detailed profile, focusing on key decision-makers, recent business developments, and potential needs that align with our offerings. This task is crucial for tailoring our engagement strategy effectively.\n",
            "Don't make assumptions and only use information you absolutely sure about.\u001b[00m\n",
            "\n",
            "\n",
            "\u001b[1m> Entering new CrewAgentExecutor chain...\u001b[0m\n",
            "\u001b[32;1m\u001b[1;3m\u001b[0m\u001b[32;1m\u001b[1;3m\u001b[0m\u001b[32;1m\u001b[1;3m\u001b[0m\u001b[32;1m\u001b[1;3mThought: I need to start by searching for information about DeepLearningAI to gather the required data for the report.\n",
            "Action: Search the internet\n",
            "Action Input: {\"search_query\": \"DeepLearningAI company\"}\n",
            "Observation: ```\n",
            "{\n",
            "    \"title\": \"DeepLearningAI | Artificial Intelligence Courses & Certifications\",\n",
            "    \"text\": \"DeepLearningAI | Artificial Intelligence Courses & Certifications. DeepLearningAI was founded by Andrew Ng, one of the world's leading AI experts. The company offers online courses and certifications in Artificial Intelligence and Deep Learning. DeepLearningAI's mission is to empower individuals and organizations to master AI and transform careers and businesses through cutting-edge education and research.\"\n",
            "}\n",
            "```\u001b[0m\u001b[32;1m\u001b[1;3m\u001b[0m\u001b[32;1m\u001b[1;3m\u001b[0m\u001b[32;1m\u001b[1;3m\u001b[0m\u001b[32;1m\u001b[1;3m\u001b[0m\u001b[32;1m\u001b[1;3m\u001b[0m\u001b[32;1m\u001b[1;3m\u001b[0m\u001b[32;1m\u001b[1;3m\u001b[0m\u001b[32;1m\u001b[1;3m\u001b[0m\u001b[32;1m\u001b[1;3m\u001b[0m\u001b[32;1m\u001b[1;3m\u001b[0m\u001b[32;1m\u001b[1;3m\u001b[0m\u001b[32;1m\u001b[1;3m\u001b[0m\u001b[32;1m\u001b[1;3m\u001b[0m\u001b[32;1m\u001b[1;3m\u001b[0m\u001b[32;1m\u001b[1;3m\u001b[0m\u001b[32;1m\u001b[1;3m\u001b[0m\u001b[32;1m\u001b[1;3m\u001b[0m\u001b[32;1m\u001b[1;3m\u001b[0m\u001b[32;1m\u001b[1;3m\u001b[0m\u001b[32;1m\u001b[1;3mThought: I will structure the report based on the provided criteria: company background, key personnel, recent milestones, identified needs, potential value from our solutions, and engagement strategies.\n",
            "\n",
            "Final Answer: # DeepLearningAI Report\n",
            "\n",
            "## Company Background\n",
            "DeepLearningAI is an online learning platform specializing in Artificial Intelligence (AI) and Deep Learning education. Founded by Andrew Ng, a renowned AI expert, the company aims to empower individuals and organizations to master AI and drive career and business transformations.\n",
            "\n",
            "## Key Personnel\n",
            "- **Andrew Ng** - Founder and AI Expert.\n",
            "\n",
            "## Recent Milestones\n",
            "- Launch of online courses and certifications in AI and Deep Learning.\n",
            "\n",
            "## Identified Needs\n",
            "As an online learning platform, DeepLearningAI may have needs related to:\n",
            "- Course content development and delivery.\n",
            "- Student engagement and learning experience.\n",
            "- Instructor training and support.\n",
            "- Platform scalability and performance.\n",
            "\n",
            "## Potential Value from Our Solutions\n",
            "Our solutions can potentially address DeepLearningAI's needs in the following ways:\n",
            "- **Course Content and Delivery**: We can offer expertise in developing engaging and interactive AI course content, ensuring a high-quality learning experience.\n",
            "- **Student Engagement**: Our platform can provide features to enhance student engagement, such as interactive exercises, peer collaboration, and personalized learning paths.\n",
            "- **Instructor Support**: We can provide tools and resources to support instructors, including course management, student assessment, and feedback mechanisms.\n",
            "- **Platform Scalability**: Our scalable infrastructure can handle increasing user demand, ensuring a smooth learning experience for all students.\n",
            "\n",
            "## Engagement Strategies\n",
            "- **Content Collaboration**: Collaborate with DeepLearningAI to co-create AI courses, leveraging our content development expertise and their industry knowledge.\n",
            "- **Platform Integration**: Offer our platform as a white-label solution, allowing DeepLearningAI to focus on content while we provide the technical infrastructure.\n",
            "- **Instructor Training**: Provide training programs to upskill DeepLearningAI's instructors, ensuring they are equipped to deliver high-quality AI education.\n",
            "- **Joint Webinars**: Host joint webinars to showcase AI advancements and engage potential students, highlighting the benefits of both organizations.\u001b[0m\n",
            "\n",
            "\u001b[1m> Finished chain.\u001b[0m\n",
            "\u001b[1m\u001b[92m [DEBUG]: == [Sales Representative] Task output: # DeepLearningAI Report\n",
            "\n",
            "## Company Background\n",
            "DeepLearningAI is an online learning platform specializing in Artificial Intelligence (AI) and Deep Learning education. Founded by Andrew Ng, a renowned AI expert, the company aims to empower individuals and organizations to master AI and drive career and business transformations.\n",
            "\n",
            "## Key Personnel\n",
            "- **Andrew Ng** - Founder and AI Expert.\n",
            "\n",
            "## Recent Milestones\n",
            "- Launch of online courses and certifications in AI and Deep Learning.\n",
            "\n",
            "## Identified Needs\n",
            "As an online learning platform, DeepLearningAI may have needs related to:\n",
            "- Course content development and delivery.\n",
            "- Student engagement and learning experience.\n",
            "- Instructor training and support.\n",
            "- Platform scalability and performance.\n",
            "\n",
            "## Potential Value from Our Solutions\n",
            "Our solutions can potentially address DeepLearningAI's needs in the following ways:\n",
            "- **Course Content and Delivery**: We can offer expertise in developing engaging and interactive AI course content, ensuring a high-quality learning experience.\n",
            "- **Student Engagement**: Our platform can provide features to enhance student engagement, such as interactive exercises, peer collaboration, and personalized learning paths.\n",
            "- **Instructor Support**: We can provide tools and resources to support instructors, including course management, student assessment, and feedback mechanisms.\n",
            "- **Platform Scalability**: Our scalable infrastructure can handle increasing user demand, ensuring a smooth learning experience for all students.\n",
            "\n",
            "## Engagement Strategies\n",
            "- **Content Collaboration**: Collaborate with DeepLearningAI to co-create AI courses, leveraging our content development expertise and their industry knowledge.\n",
            "- **Platform Integration**: Offer our platform as a white-label solution, allowing DeepLearningAI to focus on content while we provide the technical infrastructure.\n",
            "- **Instructor Training**: Provide training programs to upskill DeepLearningAI's instructors, ensuring they are equipped to deliver high-quality AI education.\n",
            "- **Joint Webinars**: Host joint webinars to showcase AI advancements and engage potential students, highlighting the benefits of both organizations.\n",
            "\n",
            "\u001b[00m\n",
            "\u001b[1m\u001b[95m [DEBUG]: == Working Agent: Lead Sales Representative\u001b[00m\n",
            "\u001b[1m\u001b[95m [INFO]: == Starting Task: Using the insights gathered from the lead profiling report on DeepLearningAI, craft a personalized outreach campaign aimed at Andrew Ng, the CEO of DeepLearningAI. The campaign should address their recent product launch and how our solutions can support their goals. Your communication must resonate with DeepLearningAI's company culture and values, demonstrating a deep understanding of their business and needs.\n",
            "Don't make assumptions and only use information you absolutely sure about.\u001b[00m\n",
            "\n",
            "\n",
            "\u001b[1m> Entering new CrewAgentExecutor chain...\u001b[0m\n",
            "\u001b[32;1m\u001b[1;3m\u001b[0m\u001b[32;1m\u001b[1;3m\u001b[0m\u001b[32;1m\u001b[1;3m\u001b[0m\u001b[32;1m\u001b[1;3m\u001b[0m\u001b[32;1m\u001b[1;3m\u001b[0m\u001b[32;1m\u001b[1;3m\u001b[0m\u001b[32;1m\u001b[1;3m\u001b[0m\u001b[32;1m\u001b[1;3m\u001b[0m\u001b[32;1m\u001b[1;3m\u001b[0m\u001b[32;1m\u001b[1;3m\u001b[0m\u001b[32;1m\u001b[1;3m\u001b[0m\u001b[32;1m\u001b[1;3m\u001b[0m\u001b[32;1m\u001b[1;3m\u001b[0m\u001b[32;1m\u001b[1;3m\u001b[0m\u001b[32;1m\u001b[1;3m\u001b[0m\u001b[32;1m\u001b[1;3m\u001b[0m\u001b[32;1m\u001b[1;3m\u001b[0m\u001b[32;1m\u001b[1;3m\u001b[0m\u001b[32;1m\u001b[1;3m\u001b[0m\u001b[32;1m\u001b[1;3m\u001b[0m\u001b[32;1m\u001b[1;3m\u001b[0m\u001b[32;1m\u001b[1;3m\u001b[0m\u001b[32;1m\u001b[1;3m\u001b[0m\u001b[32;1m\u001b[1;3mFinal Answer: ## Email 1:\n",
            "\n",
            "Subject: Enhancing AI Education with CrewAI's Personalized Learning Solutions\n",
            "\n",
            "Dear Andrew Ng,\n",
            "\n",
            "I hope this email finds you well as you celebrate the successful launch of your online courses and certifications in AI and Deep Learning. At CrewAI, we are passionate about revolutionizing education, and we believe our cutting-edge technologies can significantly contribute to DeepLearningAI's mission.\n",
            "\n",
            "As a fellow pioneer in the AI space, we understand the importance of delivering high-quality, engaging content to students worldwide. Our platform excels in creating personalized learning experiences, ensuring that every learner's journey is tailored to their unique needs and goals.\n",
            "\n",
            "Imagine a collaboration where together, we could:\n",
            "- **Co-create Compelling Courses**: By combining your industry expertise with our content development skills, we can craft interactive AI courses that captivate and educate.\n",
            "- **Elevate Student Engagement**: Our platform's interactive features, such as peer collaboration and personalized learning paths, can transform the learning experience, fostering a community of engaged and motivated students.\n",
            "- **Empower Instructors**: We provide comprehensive tools for instructor support, enabling efficient course management and student assessment, ultimately enhancing the overall teaching experience.\n",
            "- **Scale with Confidence**: With our scalable infrastructure, DeepLearningAI can seamlessly accommodate growing student numbers, ensuring a smooth and reliable learning environment.\n",
            "\n",
            "We believe that by integrating our solutions, DeepLearningAI can focus on what it does best—creating exceptional educational content—while we provide the technical backbone to support your vision.\n",
            "\n",
            "Let's schedule a call to explore these possibilities further. I look forward to discussing how CrewAI can contribute to DeepLearningAI's continued success.\n",
            "\n",
            "Best regards,\n",
            "[Your Name]\n",
            "Lead Sales Representative, CrewAI\n",
            "\n",
            "## Email 2:\n",
            "\n",
            "Subject: Unlocking AI's Potential: A Partnership for Growth\n",
            "\n",
            "Dear Andrew,\n",
            "\n",
            "Congratulations on the recent achievements of DeepLearningAI! As you continue to shape the future of AI education, I wanted to reach out and highlight how CrewAI's innovative technologies can further enhance your offerings.\n",
            "\n",
            "In the ever-evolving world of AI, staying ahead requires a blend of cutting-edge technology and engaging content. Here's how we envision our partnership:\n",
            "- **Content Collaboration**: Together, we can create AI courses that are not just informative but truly immersive, leveraging our interactive content development expertise.\n",
            "- **White-Label Platform Integration**: Our platform can be seamlessly integrated as a white-label solution, allowing DeepLearningAI to maintain its brand identity while benefiting from our robust technical foundation.\n",
            "- **Instructor Excellence**: We propose tailored training programs to empower your instructors, ensuring they stay at the forefront of AI education.\n",
            "- **Community Engagement**: Through joint webinars, we can showcase the latest AI advancements, attracting and engaging a wider audience, and fostering a community of lifelong learners.\n",
            "\n",
            "By joining forces, we can create a synergy that not only elevates the learning experience but also establishes DeepLearningAI as a leader in AI education.\n",
            "\n",
            "I'd love to schedule a meeting to delve deeper into these ideas and tailor our solutions to DeepLearningAI's unique requirements.\n",
            "\n",
            "Warm regards,\n",
            "[Your Name]\n",
            "Sales Lead, CrewAI\n",
            "\n",
            "## Email 3:\n",
            "\n",
            "Subject: The Future of AI Education: A CrewAI Collaboration\n",
            "\n",
            "Hello Andrew,\n",
            "\n",
            "As DeepLearningAI continues to make waves in the AI education sector, I wanted to share how CrewAI can play a pivotal role in taking your platform to the next level. Our solutions are designed to address the evolving needs of online learning, and I believe we can create a powerful partnership.\n",
            "\n",
            "Here's how CrewAI can contribute to DeepLearningAI's success:\n",
            "- **Interactive Learning Experiences**: Our platform is engineered to make learning AI both fun and effective. Through interactive exercises and personalized learning paths, we can enhance student motivation and retention.\n",
            "- **Instructor Empowerment**: We provide a suite of tools to streamline course management, student assessment, and feedback processes, enabling your instructors to excel in their roles.\n",
            "- **Scalability and Performance**: With our scalable infrastructure, DeepLearningAI can effortlessly scale to meet the demands of a growing student base, ensuring a seamless learning journey.\n",
            "- **Customized Solutions**: We understand that every educational platform is unique. That's why we offer tailored solutions, ensuring our partnership aligns perfectly with DeepLearningAI's vision and values.\n",
            "\n",
            "I propose an initial consultation to discuss these opportunities and explore how we can customize our offerings to fit DeepLearningAI's specific needs.\n",
            "\n",
            "I look forward to the possibility of working together.\n",
            "\n",
            "Sincerely,\n",
            "[Your Name]\n",
            "CrewAI Sales Team\u001b[0m\n",
            "\n",
            "\u001b[1m> Finished chain.\u001b[0m\n",
            "\u001b[1m\u001b[92m [DEBUG]: == [Lead Sales Representative] Task output: ## Email 1:\n",
            "\n",
            "Subject: Enhancing AI Education with CrewAI's Personalized Learning Solutions\n",
            "\n",
            "Dear Andrew Ng,\n",
            "\n",
            "I hope this email finds you well as you celebrate the successful launch of your online courses and certifications in AI and Deep Learning. At CrewAI, we are passionate about revolutionizing education, and we believe our cutting-edge technologies can significantly contribute to DeepLearningAI's mission.\n",
            "\n",
            "As a fellow pioneer in the AI space, we understand the importance of delivering high-quality, engaging content to students worldwide. Our platform excels in creating personalized learning experiences, ensuring that every learner's journey is tailored to their unique needs and goals.\n",
            "\n",
            "Imagine a collaboration where together, we could:\n",
            "- **Co-create Compelling Courses**: By combining your industry expertise with our content development skills, we can craft interactive AI courses that captivate and educate.\n",
            "- **Elevate Student Engagement**: Our platform's interactive features, such as peer collaboration and personalized learning paths, can transform the learning experience, fostering a community of engaged and motivated students.\n",
            "- **Empower Instructors**: We provide comprehensive tools for instructor support, enabling efficient course management and student assessment, ultimately enhancing the overall teaching experience.\n",
            "- **Scale with Confidence**: With our scalable infrastructure, DeepLearningAI can seamlessly accommodate growing student numbers, ensuring a smooth and reliable learning environment.\n",
            "\n",
            "We believe that by integrating our solutions, DeepLearningAI can focus on what it does best—creating exceptional educational content—while we provide the technical backbone to support your vision.\n",
            "\n",
            "Let's schedule a call to explore these possibilities further. I look forward to discussing how CrewAI can contribute to DeepLearningAI's continued success.\n",
            "\n",
            "Best regards,\n",
            "[Your Name]\n",
            "Lead Sales Representative, CrewAI\n",
            "\n",
            "## Email 2:\n",
            "\n",
            "Subject: Unlocking AI's Potential: A Partnership for Growth\n",
            "\n",
            "Dear Andrew,\n",
            "\n",
            "Congratulations on the recent achievements of DeepLearningAI! As you continue to shape the future of AI education, I wanted to reach out and highlight how CrewAI's innovative technologies can further enhance your offerings.\n",
            "\n",
            "In the ever-evolving world of AI, staying ahead requires a blend of cutting-edge technology and engaging content. Here's how we envision our partnership:\n",
            "- **Content Collaboration**: Together, we can create AI courses that are not just informative but truly immersive, leveraging our interactive content development expertise.\n",
            "- **White-Label Platform Integration**: Our platform can be seamlessly integrated as a white-label solution, allowing DeepLearningAI to maintain its brand identity while benefiting from our robust technical foundation.\n",
            "- **Instructor Excellence**: We propose tailored training programs to empower your instructors, ensuring they stay at the forefront of AI education.\n",
            "- **Community Engagement**: Through joint webinars, we can showcase the latest AI advancements, attracting and engaging a wider audience, and fostering a community of lifelong learners.\n",
            "\n",
            "By joining forces, we can create a synergy that not only elevates the learning experience but also establishes DeepLearningAI as a leader in AI education.\n",
            "\n",
            "I'd love to schedule a meeting to delve deeper into these ideas and tailor our solutions to DeepLearningAI's unique requirements.\n",
            "\n",
            "Warm regards,\n",
            "[Your Name]\n",
            "Sales Lead, CrewAI\n",
            "\n",
            "## Email 3:\n",
            "\n",
            "Subject: The Future of AI Education: A CrewAI Collaboration\n",
            "\n",
            "Hello Andrew,\n",
            "\n",
            "As DeepLearningAI continues to make waves in the AI education sector, I wanted to share how CrewAI can play a pivotal role in taking your platform to the next level. Our solutions are designed to address the evolving needs of online learning, and I believe we can create a powerful partnership.\n",
            "\n",
            "Here's how CrewAI can contribute to DeepLearningAI's success:\n",
            "- **Interactive Learning Experiences**: Our platform is engineered to make learning AI both fun and effective. Through interactive exercises and personalized learning paths, we can enhance student motivation and retention.\n",
            "- **Instructor Empowerment**: We provide a suite of tools to streamline course management, student assessment, and feedback processes, enabling your instructors to excel in their roles.\n",
            "- **Scalability and Performance**: With our scalable infrastructure, DeepLearningAI can effortlessly scale to meet the demands of a growing student base, ensuring a seamless learning journey.\n",
            "- **Customized Solutions**: We understand that every educational platform is unique. That's why we offer tailored solutions, ensuring our partnership aligns perfectly with DeepLearningAI's vision and values.\n",
            "\n",
            "I propose an initial consultation to discuss these opportunities and explore how we can customize our offerings to fit DeepLearningAI's specific needs.\n",
            "\n",
            "I look forward to the possibility of working together.\n",
            "\n",
            "Sincerely,\n",
            "[Your Name]\n",
            "CrewAI Sales Team\n",
            "\n",
            "\u001b[00m\n"
          ]
        }
      ],
      "source": [
        "inputs = {\n",
        "    \"lead_name\": \"DeepLearningAI\",\n",
        "    \"industry\": \"Online Learning Platform\",\n",
        "    \"key_decision_maker\": \"Andrew Ng\",\n",
        "    \"position\": \"CEO\",\n",
        "    \"milestone\": \"product launch\"\n",
        "}\n",
        "\n",
        "result = crew.kickoff(inputs=inputs)"
      ]
    },
    {
      "cell_type": "markdown",
      "metadata": {
        "id": "rDk2Jxut1TGy"
      },
      "source": [
        "- Display the final result as Markdown."
      ]
    },
    {
      "cell_type": "code",
      "execution_count": 22,
      "metadata": {
        "id": "HWlP83oX1TGz",
        "colab": {
          "base_uri": "https://localhost:8080/",
          "height": 1000
        },
        "outputId": "cf570c96-2f4f-4111-9cf6-1c8a232c9747"
      },
      "outputs": [
        {
          "output_type": "execute_result",
          "data": {
            "text/plain": [
              "<IPython.core.display.Markdown object>"
            ],
            "text/markdown": "## Email 1:\n\nSubject: Enhancing AI Education with CrewAI's Personalized Learning Solutions\n\nDear Andrew Ng,\n\nI hope this email finds you well as you celebrate the successful launch of your online courses and certifications in AI and Deep Learning. At CrewAI, we are passionate about revolutionizing education, and we believe our cutting-edge technologies can significantly contribute to DeepLearningAI's mission.\n\nAs a fellow pioneer in the AI space, we understand the importance of delivering high-quality, engaging content to students worldwide. Our platform excels in creating personalized learning experiences, ensuring that every learner's journey is tailored to their unique needs and goals.\n\nImagine a collaboration where together, we could:\n- **Co-create Compelling Courses**: By combining your industry expertise with our content development skills, we can craft interactive AI courses that captivate and educate.\n- **Elevate Student Engagement**: Our platform's interactive features, such as peer collaboration and personalized learning paths, can transform the learning experience, fostering a community of engaged and motivated students.\n- **Empower Instructors**: We provide comprehensive tools for instructor support, enabling efficient course management and student assessment, ultimately enhancing the overall teaching experience.\n- **Scale with Confidence**: With our scalable infrastructure, DeepLearningAI can seamlessly accommodate growing student numbers, ensuring a smooth and reliable learning environment.\n\nWe believe that by integrating our solutions, DeepLearningAI can focus on what it does best—creating exceptional educational content—while we provide the technical backbone to support your vision.\n\nLet's schedule a call to explore these possibilities further. I look forward to discussing how CrewAI can contribute to DeepLearningAI's continued success.\n\nBest regards,\n[Your Name]\nLead Sales Representative, CrewAI\n\n## Email 2:\n\nSubject: Unlocking AI's Potential: A Partnership for Growth\n\nDear Andrew,\n\nCongratulations on the recent achievements of DeepLearningAI! As you continue to shape the future of AI education, I wanted to reach out and highlight how CrewAI's innovative technologies can further enhance your offerings.\n\nIn the ever-evolving world of AI, staying ahead requires a blend of cutting-edge technology and engaging content. Here's how we envision our partnership:\n- **Content Collaboration**: Together, we can create AI courses that are not just informative but truly immersive, leveraging our interactive content development expertise.\n- **White-Label Platform Integration**: Our platform can be seamlessly integrated as a white-label solution, allowing DeepLearningAI to maintain its brand identity while benefiting from our robust technical foundation.\n- **Instructor Excellence**: We propose tailored training programs to empower your instructors, ensuring they stay at the forefront of AI education.\n- **Community Engagement**: Through joint webinars, we can showcase the latest AI advancements, attracting and engaging a wider audience, and fostering a community of lifelong learners.\n\nBy joining forces, we can create a synergy that not only elevates the learning experience but also establishes DeepLearningAI as a leader in AI education.\n\nI'd love to schedule a meeting to delve deeper into these ideas and tailor our solutions to DeepLearningAI's unique requirements.\n\nWarm regards,\n[Your Name]\nSales Lead, CrewAI\n\n## Email 3:\n\nSubject: The Future of AI Education: A CrewAI Collaboration\n\nHello Andrew,\n\nAs DeepLearningAI continues to make waves in the AI education sector, I wanted to share how CrewAI can play a pivotal role in taking your platform to the next level. Our solutions are designed to address the evolving needs of online learning, and I believe we can create a powerful partnership.\n\nHere's how CrewAI can contribute to DeepLearningAI's success:\n- **Interactive Learning Experiences**: Our platform is engineered to make learning AI both fun and effective. Through interactive exercises and personalized learning paths, we can enhance student motivation and retention.\n- **Instructor Empowerment**: We provide a suite of tools to streamline course management, student assessment, and feedback processes, enabling your instructors to excel in their roles.\n- **Scalability and Performance**: With our scalable infrastructure, DeepLearningAI can effortlessly scale to meet the demands of a growing student base, ensuring a seamless learning journey.\n- **Customized Solutions**: We understand that every educational platform is unique. That's why we offer tailored solutions, ensuring our partnership aligns perfectly with DeepLearningAI's vision and values.\n\nI propose an initial consultation to discuss these opportunities and explore how we can customize our offerings to fit DeepLearningAI's specific needs.\n\nI look forward to the possibility of working together.\n\nSincerely,\n[Your Name]\nCrewAI Sales Team"
          },
          "metadata": {},
          "execution_count": 22
        }
      ],
      "source": [
        "from IPython.display import Markdown\n",
        "Markdown(result)"
      ]
    },
    {
      "cell_type": "code",
      "execution_count": null,
      "metadata": {
        "id": "gmDiM4Ai1TGz"
      },
      "outputs": [],
      "source": []
    },
    {
      "cell_type": "code",
      "execution_count": null,
      "metadata": {
        "id": "ivH96OwY1TGz"
      },
      "outputs": [],
      "source": []
    }
  ],
  "metadata": {
    "colab": {
      "provenance": []
    },
    "kernelspec": {
      "display_name": "Python 3 (ipykernel)",
      "language": "python",
      "name": "python3"
    },
    "language_info": {
      "codemirror_mode": {
        "name": "ipython",
        "version": 3
      },
      "file_extension": ".py",
      "mimetype": "text/x-python",
      "name": "python",
      "nbconvert_exporter": "python",
      "pygments_lexer": "ipython3",
      "version": "3.11.9"
    }
  },
  "nbformat": 4,
  "nbformat_minor": 0
}